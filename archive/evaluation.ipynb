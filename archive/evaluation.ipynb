{
 "cells": [
  {
   "cell_type": "code",
   "execution_count": 7,
   "metadata": {},
   "outputs": [],
   "source": [
    "import pandas as pd\n",
    "import ast\n",
    "import matplotlib.pyplot as plt\n",
    "import warnings\n",
    "import math\n",
    "import numpy as np\n",
    "import seaborn as sns\n",
    "warnings.filterwarnings(\"ignore\")\n",
    "\n",
    "%matplotlib inline"
   ]
  },
  {
   "cell_type": "markdown",
   "metadata": {},
   "source": [
    "jupyter pw: <code>_@gCJYb7uvN72Am</code>"
   ]
  },
  {
   "cell_type": "code",
   "execution_count": 8,
   "metadata": {},
   "outputs": [],
   "source": [
    "## Functions\n",
    "\n",
    "# Funktion, um den Wattwert für einen Prozess aus der 'processes'-Liste zu extrahieren\n",
    "def extract_wattage(process_list, target_process):\n",
    "    process_list = ast.literal_eval(process_list)\n",
    "    for process, wattage in process_list:\n",
    "        if process == target_process:\n",
    "            return wattage\n",
    "    return None\n",
    "\n",
    "# Funktion um aus allen Messungen (W) den Energie Gesamt Energie-Verbrauch (KwH) für einen Service zu berechnen\n",
    "def calculate_energy_consumption(process_name,process_wattage_slice,time_delta_slice):\n",
    "    total_ws = 0.0\n",
    "    total_t = 0\n",
    "\n",
    "    for i in range(1,len(process_wattage_slice)):\n",
    "        dt = time_delta_slice.iloc[i] - time_delta_slice.iloc[i-1]\n",
    "        average = (process_wattage_slice.iloc[i] + process_wattage_slice.iloc[i-1]) / 2\n",
    "        total_ws += average * dt\n",
    "        total_t += dt\n",
    "    \n",
    "    if math.isnan(total_ws):\n",
    "        return 0.0\n",
    "    \n",
    "    return total_ws\n",
    "    "
   ]
  },
  {
   "cell_type": "code",
   "execution_count": 9,
   "metadata": {},
   "outputs": [],
   "source": [
    "# Load data\n",
    "from glob import glob\n",
    "runs = glob(f\"data/*/*\")\n",
    "runs += glob(f\"data_scale/*/*\")\n",
    "runs += glob(f\"data_scale_rampup/*/*\")"
   ]
  },
  {
   "cell_type": "code",
   "execution_count": 15,
   "metadata": {},
   "outputs": [
    {
     "data": {
      "text/html": [
       "<div>\n",
       "<style scoped>\n",
       "    .dataframe tbody tr th:only-of-type {\n",
       "        vertical-align: middle;\n",
       "    }\n",
       "\n",
       "    .dataframe tbody tr th {\n",
       "        vertical-align: top;\n",
       "    }\n",
       "\n",
       "    .dataframe thead th {\n",
       "        text-align: right;\n",
       "    }\n",
       "</style>\n",
       "<table border=\"1\" class=\"dataframe\">\n",
       "  <thead>\n",
       "    <tr style=\"text-align: right;\">\n",
       "      <th></th>\n",
       "      <th>requests</th>\n",
       "      <th>failures</th>\n",
       "      <th>med. lat.</th>\n",
       "      <th>avg. lat.</th>\n",
       "      <th>avg. size</th>\n",
       "    </tr>\n",
       "  </thead>\n",
       "  <tbody>\n",
       "    <tr>\n",
       "      <th>7</th>\n",
       "      <td>2847</td>\n",
       "      <td>2732</td>\n",
       "      <td>530.0</td>\n",
       "      <td>15012.472845</td>\n",
       "      <td>4169.519494</td>\n",
       "    </tr>\n",
       "  </tbody>\n",
       "</table>\n",
       "</div>"
      ],
      "text/plain": [
       "   requests  failures  med. lat.     avg. lat.    avg. size\n",
       "7      2847      2732      530.0  15012.472845  4169.519494"
      ]
     },
     "metadata": {},
     "output_type": "display_data"
    },
    {
     "data": {
      "text/html": [
       "<div>\n",
       "<style scoped>\n",
       "    .dataframe tbody tr th:only-of-type {\n",
       "        vertical-align: middle;\n",
       "    }\n",
       "\n",
       "    .dataframe tbody tr th {\n",
       "        vertical-align: top;\n",
       "    }\n",
       "\n",
       "    .dataframe thead th {\n",
       "        text-align: right;\n",
       "    }\n",
       "</style>\n",
       "<table border=\"1\" class=\"dataframe\">\n",
       "  <thead>\n",
       "    <tr style=\"text-align: right;\">\n",
       "      <th></th>\n",
       "      <th>requests</th>\n",
       "      <th>failures</th>\n",
       "      <th>med. lat.</th>\n",
       "      <th>avg. lat.</th>\n",
       "      <th>avg. size</th>\n",
       "    </tr>\n",
       "  </thead>\n",
       "  <tbody>\n",
       "    <tr>\n",
       "      <th>7</th>\n",
       "      <td>2682</td>\n",
       "      <td>2674</td>\n",
       "      <td>15000.0</td>\n",
       "      <td>20950.75604</td>\n",
       "      <td>0.0</td>\n",
       "    </tr>\n",
       "  </tbody>\n",
       "</table>\n",
       "</div>"
      ],
      "text/plain": [
       "   requests  failures  med. lat.    avg. lat.  avg. size\n",
       "7      2682      2674    15000.0  20950.75604        0.0"
      ]
     },
     "metadata": {},
     "output_type": "display_data"
    }
   ],
   "source": [
    "all = None\n",
    "services = None\n",
    "max_run = 2\n",
    "for run in runs:\n",
    "    exp = run.split('/')[1]\n",
    "    run_id = int(run.split('/')[2])\n",
    "    if run_id > max_run:\n",
    "        continue\n",
    "    try:\n",
    "        workload = pd.read_csv(f\"{run}/teastore_stats.csv\").tail(1)[[\"Request Count\", \"Failure Count\",\"Median Response Time\",\"Average Response Time\",\"Average Content Size\"]].rename(\n",
    "            columns={\"Request Count\": \"requests\", \"Failure Count\": \"failures\", \"Median Response Time\": \"med. lat.\", \"Average Response Time\": \"avg. lat.\", \"Average Content Size\": \"avg. size\"}\n",
    "        )\n",
    "        num_requests = workload[\"requests\"].values[0]\n",
    "        display(workload)\n",
    "        \n",
    "        obversations = pd.read_csv(glob(f\"{run}/measurements_*.csv\")[0])\n",
    "        obversations[\"time\"] = pd.to_datetime(obversations[\"timestamp\"])\n",
    "        obversations[\"processes\"] = obversations[\"processes\"].apply(lambda x: ast.literal_eval(x))\n",
    "        total_runtime = (obversations[\"time\"].max()-obversations[\"time\"].min()).total_seconds()\n",
    "        X = obversations.explode(\"processes\").dropna()\n",
    "        X[\"process_name\"] = X[\"processes\"].apply(lambda x: x[0])\n",
    "        X[\"wattage\"] = X[\"processes\"].apply(lambda x: x[1])\n",
    "        process_stats = X.groupby(\"process_name\")[\"process_wattage\"].sum().reset_index().rename(columns={\"process_wattage\": \"total_wattage\"})\n",
    "        process_stats[\"total_wattage\"] =process_stats[\"total_wattage\"]/1000000\n",
    "        process_stats[\"avg_wattage\"] = process_stats[\"total_wattage\"]/total_runtime\n",
    "        process_stats[\"avg_wattage_per_request\"] = process_stats[\"total_wattage\"]/num_requests\n",
    "\n",
    "        run_data = [exp,run_id]+workload.values.tolist()[0]+[total_runtime,process_stats[\"total_wattage\"].sum(),process_stats[\"process_name\"].nunique()]\n",
    "        run_data = pd.DataFrame([run_data],columns=[\"exp\",\"run_id\",\"requests\",\"failures\",\"med_lat\",\"avg_lat\",\"avg_payload\",\"runtime\",\"wattage\",\"deployment_units\"])\n",
    "\n",
    "        process_stats[\"exp\"] = exp\n",
    "        if \"scale\" in run:\n",
    "            process_stats[\"scale\"] = exp.split(\"_\")[-1]\n",
    "            run_data[\"scale\"] = exp.split(\"_\")[-1]\n",
    "            process_stats[\"name\"] =  \"_\".join(exp.split(\"_\")[0:-1])\n",
    "            run_data[\"name\"] = \"_\".join(exp.split(\"_\")[0:-1])\n",
    "        else:\n",
    "            process_stats[\"scale\"] = \"none\"\n",
    "            process_stats[\"name\"] = exp\n",
    "            run_data[\"name\"] = exp\n",
    "            run_data[\"scale\"] = \"none\"\n",
    "        \n",
    "        \n",
    "        process_stats[\"run_id\"] = run_id\n",
    "        process_stats[\"instance\"] = process_stats[\"process_name\"].apply(lambda x:X[X[\"process_name\"]==x][\"instance\"].unique()[0]) \n",
    "        process_stats[\"process_name_normal\"] = process_stats[\"process_name\"].apply(lambda x:x.split(\"-\")[1])\n",
    "        \n",
    "\n",
    "        if all is None:\n",
    "            all = run_data\n",
    "            services = process_stats\n",
    "        else:\n",
    "            all = pd.concat([all,run_data])\n",
    "            services = pd.concat([services,process_stats])\n",
    "    except FileNotFoundError as e:\n",
    "        continue\n",
    "    #     \n",
    "    #process_measures = X.groupby(\"process_name\").rolling(\"60s\",on=\"time\")[\"process_wattage\"].sum()\n",
    "    #print(exp,run_id,\"\\n\",workload, \"\\n\",process_stats[[\"process_name\",\"avg_wattage\",\"avg_wattage_per_request\"]], \"\\ntotal runtime:\",total_runtime,\"\\nreq/s:\",workload[\"requests\"].values[0]/total_runtime,\"\\n\\n\")\n",
    "    # plt.figure()\n",
    "    # sns.lineplot(data=process_measures.reset_index(),x=\"time\",y=\"process_wattage\",hue=\"process_name\")\n",
    "    # plt.suptitle(f\"{exp} - {run_id}\")\n"
   ]
  },
  {
   "cell_type": "code",
   "execution_count": 13,
   "metadata": {},
   "outputs": [
    {
     "data": {
      "text/html": [
       "<div>\n",
       "<style scoped>\n",
       "    .dataframe tbody tr th:only-of-type {\n",
       "        vertical-align: middle;\n",
       "    }\n",
       "\n",
       "    .dataframe tbody tr th {\n",
       "        vertical-align: top;\n",
       "    }\n",
       "\n",
       "    .dataframe thead th {\n",
       "        text-align: right;\n",
       "    }\n",
       "</style>\n",
       "<table border=\"1\" class=\"dataframe\">\n",
       "  <thead>\n",
       "    <tr style=\"text-align: right;\">\n",
       "      <th></th>\n",
       "      <th>exp</th>\n",
       "      <th>run_id</th>\n",
       "      <th>requests</th>\n",
       "      <th>failures</th>\n",
       "      <th>med_lat</th>\n",
       "      <th>avg_lat</th>\n",
       "      <th>avg_payload</th>\n",
       "      <th>runtime</th>\n",
       "      <th>wattage</th>\n",
       "      <th>deployment_units</th>\n",
       "      <th>scale</th>\n",
       "      <th>name</th>\n",
       "    </tr>\n",
       "  </thead>\n",
       "  <tbody>\n",
       "    <tr>\n",
       "      <th>0</th>\n",
       "      <td>baseline_vanilla_cpu</td>\n",
       "      <td>1</td>\n",
       "      <td>2847.0</td>\n",
       "      <td>2732.0</td>\n",
       "      <td>530.0</td>\n",
       "      <td>15012.472845</td>\n",
       "      <td>4169.519494</td>\n",
       "      <td>936.341418</td>\n",
       "      <td>0.0</td>\n",
       "      <td>0</td>\n",
       "      <td>cpu</td>\n",
       "      <td>baseline_vanilla</td>\n",
       "    </tr>\n",
       "    <tr>\n",
       "      <th>0</th>\n",
       "      <td>baseline_vanilla_cpu</td>\n",
       "      <td>0</td>\n",
       "      <td>2682.0</td>\n",
       "      <td>2674.0</td>\n",
       "      <td>15000.0</td>\n",
       "      <td>20950.756040</td>\n",
       "      <td>0.000000</td>\n",
       "      <td>966.500094</td>\n",
       "      <td>0.0</td>\n",
       "      <td>0</td>\n",
       "      <td>cpu</td>\n",
       "      <td>baseline_vanilla</td>\n",
       "    </tr>\n",
       "  </tbody>\n",
       "</table>\n",
       "</div>"
      ],
      "text/plain": [
       "                    exp  run_id  requests  failures  med_lat       avg_lat  \\\n",
       "0  baseline_vanilla_cpu       1    2847.0    2732.0    530.0  15012.472845   \n",
       "0  baseline_vanilla_cpu       0    2682.0    2674.0  15000.0  20950.756040   \n",
       "\n",
       "   avg_payload     runtime  wattage  deployment_units scale              name  \n",
       "0  4169.519494  936.341418      0.0                 0   cpu  baseline_vanilla  \n",
       "0     0.000000  966.500094      0.0                 0   cpu  baseline_vanilla  "
      ]
     },
     "execution_count": 13,
     "metadata": {},
     "output_type": "execute_result"
    }
   ],
   "source": [
    "all"
   ]
  },
  {
   "cell_type": "code",
   "execution_count": 14,
   "metadata": {},
   "outputs": [
    {
     "data": {
      "text/html": [
       "<div>\n",
       "<style scoped>\n",
       "    .dataframe tbody tr th:only-of-type {\n",
       "        vertical-align: middle;\n",
       "    }\n",
       "\n",
       "    .dataframe tbody tr th {\n",
       "        vertical-align: top;\n",
       "    }\n",
       "\n",
       "    .dataframe thead th {\n",
       "        text-align: right;\n",
       "    }\n",
       "</style>\n",
       "<table border=\"1\" class=\"dataframe\">\n",
       "  <thead>\n",
       "    <tr style=\"text-align: right;\">\n",
       "      <th></th>\n",
       "      <th>process_name</th>\n",
       "      <th>total_wattage</th>\n",
       "      <th>avg_wattage</th>\n",
       "      <th>avg_wattage_per_request</th>\n",
       "      <th>exp</th>\n",
       "      <th>scale</th>\n",
       "      <th>name</th>\n",
       "      <th>run_id</th>\n",
       "      <th>instance</th>\n",
       "      <th>process_name_normal</th>\n",
       "    </tr>\n",
       "  </thead>\n",
       "  <tbody>\n",
       "  </tbody>\n",
       "</table>\n",
       "</div>"
      ],
      "text/plain": [
       "Empty DataFrame\n",
       "Columns: [process_name, total_wattage, avg_wattage, avg_wattage_per_request, exp, scale, name, run_id, instance, process_name_normal]\n",
       "Index: []"
      ]
     },
     "execution_count": 14,
     "metadata": {},
     "output_type": "execute_result"
    }
   ],
   "source": [
    "services"
   ]
  },
  {
   "cell_type": "code",
   "execution_count": 11,
   "metadata": {},
   "outputs": [
    {
     "data": {
      "text/html": [
       "<div>\n",
       "<style scoped>\n",
       "    .dataframe tbody tr th:only-of-type {\n",
       "        vertical-align: middle;\n",
       "    }\n",
       "\n",
       "    .dataframe tbody tr th {\n",
       "        vertical-align: top;\n",
       "    }\n",
       "\n",
       "    .dataframe thead th {\n",
       "        text-align: right;\n",
       "    }\n",
       "</style>\n",
       "<table border=\"1\" class=\"dataframe\">\n",
       "  <thead>\n",
       "    <tr style=\"text-align: right;\">\n",
       "      <th></th>\n",
       "      <th>requests</th>\n",
       "      <th>failures</th>\n",
       "      <th>runtime</th>\n",
       "      <th>wattage</th>\n",
       "      <th>deployment_units</th>\n",
       "      <th>mW/Req</th>\n",
       "    </tr>\n",
       "    <tr>\n",
       "      <th>exp</th>\n",
       "      <th></th>\n",
       "      <th></th>\n",
       "      <th></th>\n",
       "      <th></th>\n",
       "      <th></th>\n",
       "      <th></th>\n",
       "    </tr>\n",
       "  </thead>\n",
       "  <tbody>\n",
       "    <tr>\n",
       "      <th>baseline_vanilla_cpu</th>\n",
       "      <td>5529.0</td>\n",
       "      <td>5406.0</td>\n",
       "      <td>1902.841512</td>\n",
       "      <td>0.0</td>\n",
       "      <td>0</td>\n",
       "      <td>0.0</td>\n",
       "    </tr>\n",
       "  </tbody>\n",
       "</table>\n",
       "</div>"
      ],
      "text/plain": [
       "                      requests  failures      runtime  wattage  \\\n",
       "exp                                                              \n",
       "baseline_vanilla_cpu    5529.0    5406.0  1902.841512      0.0   \n",
       "\n",
       "                      deployment_units  mW/Req  \n",
       "exp                                             \n",
       "baseline_vanilla_cpu                 0     0.0  "
      ]
     },
     "execution_count": 11,
     "metadata": {},
     "output_type": "execute_result"
    }
   ],
   "source": [
    "X = all.groupby([\"exp\"])[[\"requests\",\"failures\",\"runtime\",\"wattage\",\"deployment_units\"]].sum()\n",
    "X[\"mW/Req\"] = X[\"wattage\"]/(X[\"requests\"]+X[\"failures\"])*1000\n",
    "X = X.sort_values(by=\"mW/Req\")\n",
    "X"
   ]
  },
  {
   "cell_type": "code",
   "execution_count": 12,
   "metadata": {},
   "outputs": [
    {
     "data": {
      "text/plain": [
       "Series([], Name: total_wattage, dtype: float64)"
      ]
     },
     "execution_count": 12,
     "metadata": {},
     "output_type": "execute_result"
    }
   ],
   "source": [
    "services.groupby([\"name\",\"scale\",\"process_name_normal\"])[\"total_wattage\"].sum()"
   ]
  },
  {
   "cell_type": "code",
   "execution_count": null,
   "metadata": {},
   "outputs": [],
   "source": []
  }
 ],
 "metadata": {
  "kernelspec": {
   "display_name": "Python 3 (ipykernel)",
   "language": "python",
   "name": "python3"
  }
 },
 "nbformat": 4,
 "nbformat_minor": 2
}
