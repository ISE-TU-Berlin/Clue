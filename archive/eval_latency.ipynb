{
 "cells": [
  {
   "cell_type": "code",
   "execution_count": 2,
   "metadata": {},
   "outputs": [],
   "source": [
    "%load_ext autoreload\n",
    "%autoreload 1"
   ]
  },
  {
   "cell_type": "code",
   "execution_count": 3,
   "metadata": {},
   "outputs": [],
   "source": [
    "%aimport exv2.experiment_results \n",
    "\n",
    "import seaborn as sns\n",
    "import pandas as pd\n",
    "import matplotlib.pyplot as plt\n",
    "import glasbey\n",
    "\n",
    "\n",
    "\n",
    "pd.set_option('display.max_columns', None)\n",
    "sns.set_theme(rc={'figure.figsize':(12, 6)})\n",
    "sns.set_context(\"paper\")\n",
    "sns.set_style(\"whitegrid\")\n",
    "\n",
    "plt.rcParams['pdf.fonttype'] = 42\n",
    "plt.rcParams['ps.fonttype'] = 42\n",
    "\n",
    "palette = glasbey.create_block_palette(\n",
    "    [4, 3, 3, 2, 2],\n",
    "    colorblind_safe=True,\n",
    "    cvd_severity=90\n",
    ")\n",
    "sns.set_palette(palette)\n",
    "\n",
    "dep_focus = [\"baseline_vanilla_full\",\"monolith_feature_monolith_full\",\"serverless_feature_serverless_full\"]\n",
    "ms_focus = [\"baseline_vanilla_full\",\"obs_feature_object-storage_full\",\"norec_feature_norecommendations_full\"]\n",
    "lable_names = {\n",
    "    \"baseline_vanilla_full\": \"Microservice Baseline\",\n",
    "    'jvm_jvm-impoove_full': \"Runtime Improvement\",\n",
    "    'monolith_feature_monolith_full': \"Monolith Variant\",\n",
    "    'norec_feature_norecommendations_full' : \"Service Reduction\",\n",
    "    'obs_feature_object-storage_full' : \"Infrastructure Service Replacement\",\n",
    "    'serverless_feature_serverless_full' : \"Serverless Variant\",\n",
    "}"
   ]
  },
  {
   "cell_type": "code",
   "execution_count": 4,
   "metadata": {},
   "outputs": [
    {
     "name": "stderr",
     "output_type": "stream",
     "text": [
      "/Users/b/projects/teastore_experiments/exv2/experiment_results.py:182: FutureWarning: The behavior of DataFrame concatenation with empty or all-NA entries is deprecated. In a future version, this will no longer exclude empty or all-NA columns when determining the result dtypes. To retain the old behavior, exclude the relevant entries before the concat operation.\n",
      "  all_pods = pd.concat(\n",
      "WARNING:root:loaded 53975 datapoints with 2644 problems\n"
     ]
    }
   ],
   "source": [
    "exr = exv2.experiment_results.ExperimentResults(\"data/2024-07-*\", load_stats_history=True) # type: ignore\n",
    "RUN_VARS = exv2.experiment_results.ExperimentResults.RUN_VARS # type: ignore\n",
    "\n",
    "assert(\"loadgenerator\" not in (list(exr.pods['name'].unique())))\n",
    "assert(\"unkown\" not in (list(exr.pods['instance'].unique())))\n"
   ]
  },
  {
   "cell_type": "code",
   "execution_count": 5,
   "metadata": {},
   "outputs": [
    {
     "data": {
      "text/html": [
       "<div>\n",
       "<style scoped>\n",
       "    .dataframe tbody tr th:only-of-type {\n",
       "        vertical-align: middle;\n",
       "    }\n",
       "\n",
       "    .dataframe tbody tr th {\n",
       "        vertical-align: top;\n",
       "    }\n",
       "\n",
       "    .dataframe thead th {\n",
       "        text-align: right;\n",
       "    }\n",
       "</style>\n",
       "<table border=\"1\" class=\"dataframe\">\n",
       "  <thead>\n",
       "    <tr style=\"text-align: right;\">\n",
       "      <th></th>\n",
       "      <th>exp_branch</th>\n",
       "      <th>p50_diff</th>\n",
       "      <th>p95_diff</th>\n",
       "    </tr>\n",
       "  </thead>\n",
       "  <tbody>\n",
       "    <tr>\n",
       "      <th>0</th>\n",
       "      <td>baseline_vanilla_full</td>\n",
       "      <td>0.07 - 6.31</td>\n",
       "      <td>0.27 - 16.37</td>\n",
       "    </tr>\n",
       "    <tr>\n",
       "      <th>1</th>\n",
       "      <td>jvm_jvm-impoove_full</td>\n",
       "      <td>0.03 - 1.36</td>\n",
       "      <td>0.09 - 12.42</td>\n",
       "    </tr>\n",
       "    <tr>\n",
       "      <th>2</th>\n",
       "      <td>monolith_feature_monolith_full</td>\n",
       "      <td>0.02 - 23.23</td>\n",
       "      <td>0.06 - 42.78</td>\n",
       "    </tr>\n",
       "    <tr>\n",
       "      <th>3</th>\n",
       "      <td>norec_feature_norecommendations_full</td>\n",
       "      <td>0.07 - 2.61</td>\n",
       "      <td>0.34 - 8.36</td>\n",
       "    </tr>\n",
       "    <tr>\n",
       "      <th>4</th>\n",
       "      <td>obs_feature_object-storage_full</td>\n",
       "      <td>0.05 - 17.36</td>\n",
       "      <td>0.16 - 27.93</td>\n",
       "    </tr>\n",
       "    <tr>\n",
       "      <th>5</th>\n",
       "      <td>serverless_feature_serverless_full</td>\n",
       "      <td>0.18 - 4.68</td>\n",
       "      <td>0.49 - 15.38</td>\n",
       "    </tr>\n",
       "  </tbody>\n",
       "</table>\n",
       "</div>"
      ],
      "text/plain": [
       "                             exp_branch      p50_diff      p95_diff\n",
       "0                 baseline_vanilla_full   0.07 - 6.31  0.27 - 16.37\n",
       "1                  jvm_jvm-impoove_full   0.03 - 1.36  0.09 - 12.42\n",
       "2        monolith_feature_monolith_full  0.02 - 23.23  0.06 - 42.78\n",
       "3  norec_feature_norecommendations_full   0.07 - 2.61   0.34 - 8.36\n",
       "4       obs_feature_object-storage_full  0.05 - 17.36  0.16 - 27.93\n",
       "5    serverless_feature_serverless_full   0.18 - 4.68  0.49 - 15.38"
      ]
     },
     "execution_count": 5,
     "metadata": {},
     "output_type": "execute_result"
    }
   ],
   "source": [
    "left = \"exp_scale_shaped\"\n",
    "right = \"exp_scale_rampup\"\n",
    "\n",
    "\n",
    "latency = exr.stats_history_aggregated[exr.stats_history_aggregated[\"exp_workload\"].isin([left,right])].groupby([\"exp_branch\",\"exp_workload\"])[[\"p50\", \"p95\"]].mean().unstack()\n",
    "latency = latency / 1000\n",
    "latency[\"p50_diff\"] = latency[\"p50\"].apply(lambda x: f'{x[left]:>2.2f} - {x[right]:>2.2f}', axis=1)\n",
    "latency[\"p95_diff\"] = latency[\"p95\"].apply(lambda x: f'{x[left]:>2.2f} - {x[right]:>2.2f}', axis=1)\n",
    "\n",
    "# get the range from a moderate workload (shaped) to a stress workload (rampup)\n",
    "\n",
    "latency = latency.droplevel(1, axis=1).reset_index()\n",
    "latency = latency[[\"exp_branch\",\"p50_diff\",\"p95_diff\"]]\n",
    "latency"
   ]
  },
  {
   "cell_type": "code",
   "execution_count": 6,
   "metadata": {},
   "outputs": [],
   "source": [
    "main_table = latency[latency[\"exp_branch\"].isin(dep_focus)].copy()\n",
    "main_table[\"exp_branch\"] = main_table[\"exp_branch\"].map(lable_names)\n",
    "main_table.rename(columns={\"exp_branch\":\"Feature\",\"p50_diff\":\"p50 [s]\",\"p95_diff\":\"p95 [s]\"}, inplace=True)\n",
    "main_table\n",
    "\n",
    "with open(\"figs/latency_table_deployment.tex\", \"w\") as f:\n",
    "    f.write(main_table.to_latex(index=False, escape=False))"
   ]
  },
  {
   "cell_type": "code",
   "execution_count": 7,
   "metadata": {},
   "outputs": [],
   "source": [
    "main_table = latency[latency[\"exp_branch\"].isin(ms_focus)].copy()\n",
    "main_table[\"exp_branch\"] = main_table[\"exp_branch\"].map(lable_names)\n",
    "main_table.rename(columns={\"exp_branch\":\"Feature\",\"p50_diff\":\"p50 [s]\",\"p95_diff\":\"p95 [s]\"}, inplace=True)\n",
    "main_table\n",
    "\n",
    "with open(\"figs/latency_table_ms_impro.tex\", \"w\") as f:\n",
    "    f.write(main_table.to_latex(index=False, escape=False))"
   ]
  }
 ],
 "metadata": {
  "kernelspec": {
   "display_name": "Python 3 (ipykernel)",
   "language": "python",
   "name": "python3"
  },
  "language_info": {
   "codemirror_mode": {
    "name": "ipython",
    "version": 3
   },
   "file_extension": ".py",
   "mimetype": "text/x-python",
   "name": "python",
   "nbconvert_exporter": "python",
   "pygments_lexer": "ipython3",
   "version": "3.11.9"
  }
 },
 "nbformat": 4,
 "nbformat_minor": 2
}
