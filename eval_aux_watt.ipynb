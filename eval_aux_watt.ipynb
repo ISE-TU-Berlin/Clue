{
 "cells": [
  {
   "cell_type": "code",
   "execution_count": 1,
   "metadata": {},
   "outputs": [],
   "source": [
    "%load_ext autoreload\n",
    "%autoreload 1"
   ]
  },
  {
   "cell_type": "code",
   "execution_count": 2,
   "metadata": {},
   "outputs": [],
   "source": [
    "%aimport exv2.experiment_results \n",
    "\n",
    "import seaborn as sns\n",
    "import pandas as pd\n",
    "import matplotlib.pyplot as plt\n",
    "import glasbey\n",
    "\n",
    "\n",
    "\n",
    "pd.set_option('display.max_columns', None)\n",
    "sns.set_theme(rc={'figure.figsize':(12, 6)})\n",
    "sns.set_context(\"paper\")\n",
    "sns.set_style(\"whitegrid\")\n",
    "\n",
    "plt.rcParams['pdf.fonttype'] = 42\n",
    "plt.rcParams['ps.fonttype'] = 42\n",
    "\n",
    "palette = glasbey.create_block_palette(\n",
    "    [4, 3, 3, 2, 2],\n",
    "    colorblind_safe=True,\n",
    "    cvd_severity=90\n",
    ")\n",
    "sns.set_palette(palette)\n",
    "\n",
    "dep_focus = [\"baseline_vanilla_full\",\"monolith_feature_monolith_full\",\"serverless_feature_serverless_full\"]\n",
    "ms_focus = [\"baseline_vanilla_full\",\"obs_feature_object-storage_full\",\"norec_feature_norecommendations_full\"]\n",
    "lable_names = {\n",
    "    \"baseline_vanilla_full\": \"Microservice Baseline\",\n",
    "    'jvm_jvm-impoove_full': \"Runtime Improvement\",\n",
    "    'monolith_feature_monolith_full': \"Monolith Variant\",\n",
    "    'norec_feature_norecommendations_full' : \"Service Reduction\",\n",
    "    'obs_feature_object-storage_full' : \"Infrastructure Service Replacement\",\n",
    "    'serverless_feature_serverless_full' : \"Serverless Variant\",\n",
    "}"
   ]
  },
  {
   "cell_type": "code",
   "execution_count": 4,
   "metadata": {},
   "outputs": [
    {
     "name": "stderr",
     "output_type": "stream",
     "text": [
      "/Users/b/projects/teastore_experiments/exv2/experiment_results.py:188: FutureWarning: The behavior of DataFrame concatenation with empty or all-NA entries is deprecated. In a future version, this will no longer exclude empty or all-NA columns when determining the result dtypes. To retain the old behavior, exclude the relevant entries before the concat operation.\n",
      "  all_pods = pd.concat(\n",
      "WARNING:root:loaded 57461 datapoints with 2766 problems\n"
     ]
    }
   ],
   "source": [
    "exr = exv2.experiment_results.ExperimentResults(\"data/*\", load_stats_history=True) # type: ignore\n",
    "RUN_VARS = exv2.experiment_results.ExperimentResults.RUN_VARS # type: ignore\n",
    "\n",
    "assert(\"loadgenerator\" not in (list(exr.pods['name'].unique())))\n",
    "assert(\"unkown\" not in (list(exr.pods['instance'].unique())))\n"
   ]
  },
  {
   "cell_type": "code",
   "execution_count": 27,
   "metadata": {},
   "outputs": [
    {
     "data": {
      "text/plain": [
       "exp_branch\n",
       "baseline_vanilla_full                 48.295385\n",
       "monolith_feature_monolith_full        24.988309\n",
       "serverless_feature_serverless_full    52.973170\n",
       "Name: wattage_auxilary, dtype: float64"
      ]
     },
     "execution_count": 27,
     "metadata": {},
     "output_type": "execute_result"
    }
   ],
   "source": [
    "ac = exr.nodes[exr.nodes[\"exp_branch\"].isin(dep_focus)].groupby([\"exp_branch\",\"exp_workload\"])[[\"wattage_auxilary\",\"temperture\"]].sum().groupby(\"exp_branch\")[\"wattage_auxilary\"].mean()\n",
    "\n",
    "ac"
   ]
  }
 ],
 "metadata": {
  "kernelspec": {
   "display_name": "Python 3 (ipykernel)",
   "language": "python",
   "name": "python3"
  },
  "language_info": {
   "codemirror_mode": {
    "name": "ipython",
    "version": 3
   },
   "file_extension": ".py",
   "mimetype": "text/x-python",
   "name": "python",
   "nbconvert_exporter": "python",
   "pygments_lexer": "ipython3",
   "version": "3.11.9"
  }
 },
 "nbformat": 4,
 "nbformat_minor": 2
}
