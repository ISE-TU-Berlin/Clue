{
 "cells": [
  {
   "cell_type": "code",
   "execution_count": 1,
   "metadata": {},
   "outputs": [],
   "source": [
    "%load_ext autoreload\n",
    "%autoreload 1"
   ]
  },
  {
   "cell_type": "code",
   "execution_count": 2,
   "metadata": {},
   "outputs": [],
   "source": [
    "%aimport exv2.experiment_results \n",
    "\n",
    "import seaborn as sns\n",
    "import pandas as pd\n",
    "import matplotlib.pyplot as plt\n",
    "import glasbey\n",
    "\n",
    "\n",
    "\n",
    "pd.set_option('display.max_columns', None)\n",
    "sns.set_theme(rc={'figure.figsize':(12, 6)})\n",
    "sns.set_context(\"paper\")\n",
    "sns.set_style(\"whitegrid\")\n",
    "\n",
    "plt.rcParams['pdf.fonttype'] = 42\n",
    "plt.rcParams['ps.fonttype'] = 42\n",
    "\n",
    "palette = glasbey.create_block_palette(\n",
    "    [4, 3, 3, 2, 2],\n",
    "    colorblind_safe=True,\n",
    "    cvd_severity=90\n",
    ")\n",
    "sns.set_palette(palette)\n",
    "\n",
    "dep_focus = [\"baseline_vanilla_full\",\"monolith_feature_monolith_full\",\"serverless_feature_serverless_full\"]\n",
    "ms_focus = [\"baseline_vanilla_full\",\"obs_feature_object-storage_full\",\"norec_feature_norecommendations_full\"]\n",
    "lable_names = {\n",
    "    \"baseline_vanilla_full\": \"Microservice Baseline\",\n",
    "    'jvm_jvm-impoove_full': \"Runtime Improvement\",\n",
    "    'monolith_feature_monolith_full': \"Monolith Variant\",\n",
    "    'norec_feature_norecommendations_full' : \"Service Reduction\",\n",
    "    'obs_feature_object-storage_full' : \"Infrastructure Service Replacement\",\n",
    "    'serverless_feature_serverless_full' : \"Serverless Variant\",\n",
    "}"
   ]
  },
  {
   "cell_type": "code",
   "execution_count": 3,
   "metadata": {},
   "outputs": [
    {
     "name": "stderr",
     "output_type": "stream",
     "text": [
      "/Users/b/projects/teastore_experiments/exv2/experiment_results.py:182: FutureWarning: The behavior of DataFrame concatenation with empty or all-NA entries is deprecated. In a future version, this will no longer exclude empty or all-NA columns when determining the result dtypes. To retain the old behavior, exclude the relevant entries before the concat operation.\n",
      "  all_pods = pd.concat(\n",
      "WARNING:root:loaded 43897 datapoints with 2148 problems\n"
     ]
    }
   ],
   "source": [
    "exr = exv2.experiment_results.ExperimentResults(\"data/2024-07-19*\", load_stats_history=True) # type: ignore\n",
    "RUN_VARS = exv2.experiment_results.ExperimentResults.RUN_VARS # type: ignore\n",
    "\n",
    "assert(\"loadgenerator\" not in (list(exr.pods['name'].unique())))\n",
    "assert(\"unkown\" not in (list(exr.pods['instance'].unique())))\n"
   ]
  },
  {
   "cell_type": "code",
   "execution_count": 24,
   "metadata": {},
   "outputs": [
    {
     "data": {
      "text/html": [
       "<div>\n",
       "<style scoped>\n",
       "    .dataframe tbody tr th:only-of-type {\n",
       "        vertical-align: middle;\n",
       "    }\n",
       "\n",
       "    .dataframe tbody tr th {\n",
       "        vertical-align: top;\n",
       "    }\n",
       "\n",
       "    .dataframe thead th {\n",
       "        text-align: right;\n",
       "    }\n",
       "</style>\n",
       "<table border=\"1\" class=\"dataframe\">\n",
       "  <thead>\n",
       "    <tr style=\"text-align: right;\">\n",
       "      <th></th>\n",
       "      <th>exp_branch</th>\n",
       "      <th>fr</th>\n",
       "    </tr>\n",
       "  </thead>\n",
       "  <tbody>\n",
       "    <tr>\n",
       "      <th>0</th>\n",
       "      <td>baseline_vanilla_full</td>\n",
       "      <td>nan - 0.16</td>\n",
       "    </tr>\n",
       "    <tr>\n",
       "      <th>1</th>\n",
       "      <td>jvm_jvm-impoove_full</td>\n",
       "      <td>0.02 - 0.00</td>\n",
       "    </tr>\n",
       "    <tr>\n",
       "      <th>2</th>\n",
       "      <td>monolith_feature_monolith_full</td>\n",
       "      <td>0.01 - 0.64</td>\n",
       "    </tr>\n",
       "    <tr>\n",
       "      <th>3</th>\n",
       "      <td>norec_feature_norecommendations_full</td>\n",
       "      <td>0.01 - 0.01</td>\n",
       "    </tr>\n",
       "    <tr>\n",
       "      <th>4</th>\n",
       "      <td>obs_feature_object-storage_full</td>\n",
       "      <td>0.01 - 0.74</td>\n",
       "    </tr>\n",
       "    <tr>\n",
       "      <th>5</th>\n",
       "      <td>serverless_feature_serverless_full</td>\n",
       "      <td>0.01 - 0.09</td>\n",
       "    </tr>\n",
       "  </tbody>\n",
       "</table>\n",
       "</div>"
      ],
      "text/plain": [
       "                             exp_branch           fr\n",
       "0                 baseline_vanilla_full   nan - 0.16\n",
       "1                  jvm_jvm-impoove_full  0.02 - 0.00\n",
       "2        monolith_feature_monolith_full  0.01 - 0.64\n",
       "3  norec_feature_norecommendations_full  0.01 - 0.01\n",
       "4       obs_feature_object-storage_full  0.01 - 0.74\n",
       "5    serverless_feature_serverless_full  0.01 - 0.09"
      ]
     },
     "execution_count": 24,
     "metadata": {},
     "output_type": "execute_result"
    }
   ],
   "source": [
    "\n",
    "left = \"exp_scale_pausing\"\n",
    "right = \"exp_scale_rampup\"\n",
    "\n",
    "\n",
    "failures = exr.stats_aggregated[exr.stats_aggregated[\"exp_workload\"].isin([left,right])].groupby([\"exp_branch\",\"exp_workload\"])[[\"Request Count\",\"Failure Count\"]].sum()\n",
    "failures[\"Failure Rate\"] = failures[\"Failure Count\"] / failures[\"Request Count\"]\n",
    "failures = failures.unstack()\n",
    "failures[\"fr\"] = failures[\"Failure Rate\"].apply(lambda x: f'{x[left]:>2.2f} - {x[right]:>2.2f}', axis=1)\n",
    "failures = failures.droplevel(1, axis=1).reset_index()[[\"exp_branch\",\"fr\"]]\n"
   ]
  },
  {
   "cell_type": "code",
   "execution_count": 25,
   "metadata": {},
   "outputs": [],
   "source": [
    "main_table = failures[failures[\"exp_branch\"].isin(dep_focus)].copy()\n",
    "main_table[\"exp_branch\"] = main_table[\"exp_branch\"].map(lable_names)\n",
    "main_table.rename(columns={\"exp_branch\":\"Feature\",\"fr\":\"Failure Rate [%] (idle-stress)\"}, inplace=True)\n",
    "main_table\n",
    "\n",
    "with open(\"figs/failures_table_deployment.tex\", \"w\") as f:\n",
    "    f.write(main_table.to_latex(index=False, escape=False))"
   ]
  },
  {
   "cell_type": "code",
   "execution_count": 26,
   "metadata": {},
   "outputs": [],
   "source": [
    "main_table = failures[failures[\"exp_branch\"].isin(ms_focus)].copy()\n",
    "main_table[\"exp_branch\"] = main_table[\"exp_branch\"].map(lable_names)\n",
    "main_table.rename(columns={\"exp_branch\":\"Feature\",\"fr\":\"Failure Rate [%] (idle-stress)\"}, inplace=True)\n",
    "main_table\n",
    "\n",
    "with open(\"figs/failures_table_ms_improv.tex\", \"w\") as f:\n",
    "    f.write(main_table.to_latex(index=False, escape=False))"
   ]
  }
 ],
 "metadata": {
  "kernelspec": {
   "display_name": "Python 3 (ipykernel)",
   "language": "python",
   "name": "python3"
  },
  "language_info": {
   "codemirror_mode": {
    "name": "ipython",
    "version": 3
   },
   "file_extension": ".py",
   "mimetype": "text/x-python",
   "name": "python",
   "nbconvert_exporter": "python",
   "pygments_lexer": "ipython3",
   "version": "3.11.9"
  }
 },
 "nbformat": 4,
 "nbformat_minor": 2
}
